{
 "cells": [
  {
   "cell_type": "markdown",
   "id": "e65451c2-ef9e-4f1c-a27f-772ee1885e08",
   "metadata": {},
   "source": [
    "# WAP to generate a number table and check if 35 is a part of it or not."
   ]
  },
  {
   "cell_type": "code",
   "execution_count": 1,
   "id": "c0081f3d-4a93-4444-80a2-432a30b0b0fa",
   "metadata": {},
   "outputs": [
    {
     "name": "stdin",
     "output_type": "stream",
     "text": [
      " 2\n"
     ]
    }
   ],
   "source": [
    "n=int(input())\n",
    "list=[n*i for i in range(11)]"
   ]
  },
  {
   "cell_type": "code",
   "execution_count": 2,
   "id": "501aa7bd-9f1d-4e1f-b668-0af389981c86",
   "metadata": {},
   "outputs": [
    {
     "data": {
      "text/plain": [
       "[0, 2, 4, 6, 8, 10, 12, 14, 16, 18, 20]"
      ]
     },
     "execution_count": 2,
     "metadata": {},
     "output_type": "execute_result"
    }
   ],
   "source": [
    "list"
   ]
  },
  {
   "cell_type": "code",
   "execution_count": 3,
   "id": "3e98ea21-77db-4a20-b710-60bdb0b2b57e",
   "metadata": {},
   "outputs": [],
   "source": [
    "def search(list):\n",
    "    if t  in list:\n",
    "        print(\"Present\")\n",
    "    else:\n",
    "        print(\"absent\")"
   ]
  },
  {
   "cell_type": "code",
   "execution_count": 4,
   "id": "e095c990-7ad7-442b-8dec-f7fe09a5724f",
   "metadata": {},
   "outputs": [
    {
     "name": "stdin",
     "output_type": "stream",
     "text": [
      "enter a number for search 35\n"
     ]
    }
   ],
   "source": [
    "t=int(input(\"enter a number for search\"))"
   ]
  },
  {
   "cell_type": "code",
   "execution_count": 5,
   "id": "5cf1ebeb-747f-45a9-a657-fd02cee40105",
   "metadata": {},
   "outputs": [
    {
     "name": "stdout",
     "output_type": "stream",
     "text": [
      "absent\n"
     ]
    }
   ],
   "source": [
    "search(list)"
   ]
  },
  {
   "cell_type": "code",
   "execution_count": null,
   "id": "e6f4ccf9-534b-425f-b62f-9ba28522c906",
   "metadata": {},
   "outputs": [],
   "source": []
  }
 ],
 "metadata": {
  "kernelspec": {
   "display_name": "Python 3 (ipykernel)",
   "language": "python",
   "name": "python3"
  },
  "language_info": {
   "codemirror_mode": {
    "name": "ipython",
    "version": 3
   },
   "file_extension": ".py",
   "mimetype": "text/x-python",
   "name": "python",
   "nbconvert_exporter": "python",
   "pygments_lexer": "ipython3",
   "version": "3.11.7"
  }
 },
 "nbformat": 4,
 "nbformat_minor": 5
}
